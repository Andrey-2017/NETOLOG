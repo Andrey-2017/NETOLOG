{
 "cells": [
  {
   "cell_type": "code",
   "execution_count": 1,
   "metadata": {},
   "outputs": [],
   "source": [
    "import pandas as pd"
   ]
  },
  {
   "cell_type": "code",
   "execution_count": 2,
   "metadata": {},
   "outputs": [],
   "source": [
    "def name_dyn(x):\n",
    "    cols = ['Name', 'Gender', 'Count']\n",
    "    D = {}\n",
    "    lf = []\n",
    "    lm = []\n",
    "    for l in x:\n",
    "        name_tab = pd.read_csv('D:\\PITON\\DATA\\yob' + l + '.txt', names=cols)\n",
    "        num_f = name_tab[name_tab.Gender == 'F'].Count.sum()\n",
    "        num_m = name_tab[name_tab.Gender == 'M'].Count.sum()\n",
    "        lf.append(num_f)\n",
    "        lm.append(num_m)\n",
    "    D['F'] = lf\n",
    "    D['M'] = lm\n",
    "    return D"
   ]
  },
  {
   "cell_type": "code",
   "execution_count": 3,
   "metadata": {},
   "outputs": [
    {
     "name": "stdout",
     "output_type": "stream",
     "text": [
      "Динамика изменения количества имён за указанные года - ['1900', '1950', '2000'] имеет вид - {'F': [299810, 1713259, 1814922], 'M': [150486, 1790871, 1962744]}\n"
     ]
    }
   ],
   "source": [
    "x = ['1900', '1950', '2000']\n",
    "print('Динамика изменения количества имён за указанные года - {0} имеет вид - {1}'.format(x, name_dyn(x)))"
   ]
  }
 ],
 "metadata": {
  "kernelspec": {
   "display_name": "Python 2",
   "language": "python",
   "name": "python2"
  },
  "language_info": {
   "codemirror_mode": {
    "name": "ipython",
    "version": 2.0
   },
   "file_extension": ".py",
   "mimetype": "text/x-python",
   "name": "python",
   "nbconvert_exporter": "python",
   "pygments_lexer": "ipython2",
   "version": "2.7.6"
  }
 },
 "nbformat": 4,
 "nbformat_minor": 0
}