{
 "cells": [
  {
   "cell_type": "code",
   "execution_count": 68,
   "metadata": {},
   "outputs": [],
   "source": [
    "import pandas as pd"
   ]
  },
  {
   "cell_type": "code",
   "execution_count": 69,
   "metadata": {},
   "outputs": [],
   "source": [
    "def top_3(x):\n",
    "    a = []\n",
    "    cols = ['Name', 'Gender', 'Count']\n",
    "    for l in x:\n",
    "        a.append(pd.read_csv('D:\\PITON\\DATA\\yob' + l + '.txt', names=cols))\n",
    "    s = pd.DataFrame({'Name': [], 'Gender': [], 'Count': []})\n",
    "    for l in a:\n",
    "        s = pd.concat([s, l], names=cols)\n",
    "    s.groupby(by='Name').sum().sort_values(by='Count', ascending=False)\n",
    "    b = s.head(3)\n",
    "    c = b.Name.values\n",
    "    print('Топ-3 популярных имён в период {0} - {1}'.format(x, list(c)))"
   ]
  },
  {
   "cell_type": "code",
   "execution_count": null,
   "metadata": {},
   "outputs": [
    {
     "name": "stdout",
     "output_type": "stream",
     "text": [
      "Топ-3 популярных имён в период ['1900', '1950', '2000'] - ['Mary', 'Helen', 'Anna']\n"
     ]
    }
   ],
   "source": [
    "x = ['1900', '1950', '2000']\n",
    "top_3(x)"
   ]
  }
 ],
 "metadata": {
  "kernelspec": {
   "display_name": "Python 2",
   "language": "python",
   "name": "python2"
  },
  "language_info": {
   "codemirror_mode": {
    "name": "ipython",
    "version": 2.0
   },
   "file_extension": ".py",
   "mimetype": "text/x-python",
   "name": "python",
   "nbconvert_exporter": "python",
   "pygments_lexer": "ipython2",
   "version": "2.7.6"
  }
 },
 "nbformat": 4,
 "nbformat_minor": 0
}