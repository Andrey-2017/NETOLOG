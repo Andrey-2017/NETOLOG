{
 "cells": [
  {
   "cell_type": "code",
   "execution_count": 1,
   "metadata": {},
   "outputs": [],
   "source": [
    "import pandas as pd"
   ]
  },
  {
   "cell_type": "code",
   "execution_count": 2,
   "metadata": {},
   "outputs": [],
   "source": [
    "def top_3(x):\n",
    "    name_list = []\n",
    "    cols = ['Name', 'Gender', 'Count']\n",
    "    for l in x:\n",
    "        name_list.append(pd.read_csv('D:\\PITON\\DATA\\yob' + l + '.txt', names=cols))\n",
    "    s = pd.concat(name_list)\n",
    "    s.groupby(by='Name').sum().sort_values(by='Count', ascending=False)\n",
    "    b = s.head(3)\n",
    "    c = b.Name.values\n",
    "    return c"
   ]
  },
  {
   "cell_type": "code",
   "execution_count": 3,
   "metadata": {},
   "outputs": [
    {
     "name": "stdout",
     "output_type": "stream",
     "text": [
      "Топ-3 популярных имён в период ['1900', '1950', '2000'] - ['Mary', 'Helen', 'Anna']\n"
     ]
    }
   ],
   "source": [
    "x = ['1900', '1950', '2000']\n",
    "print('Топ-3 популярных имён в период {0} - {1}'.format(x, list(top_3(x))))"
   ]
  }
 ],
 "metadata": {
  "kernelspec": {
   "display_name": "Python 2",
   "language": "python",
   "name": "python2"
  },
  "language_info": {
   "codemirror_mode": {
    "name": "ipython",
    "version": 2.0
   },
   "file_extension": ".py",
   "mimetype": "text/x-python",
   "name": "python",
   "nbconvert_exporter": "python",
   "pygments_lexer": "ipython2",
   "version": "2.7.6"
  }
 },
 "nbformat": 4,
 "nbformat_minor": 0
}