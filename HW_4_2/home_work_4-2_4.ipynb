{
 "cells": [
  {
   "cell_type": "code",
   "execution_count": 21,
   "metadata": {
    "collapsed": true
   },
   "outputs": [],
   "source": [
    "import pandas as pd\n",
    "import numpy as np\n",
    "import matplotlib.pyplot as plt\n",
    "%matplotlib inline"
   ]
  },
  {
   "cell_type": "code",
   "execution_count": 30,
   "metadata": {},
   "outputs": [],
   "source": [
    "def data_read():\n",
    "    name_data = []\n",
    "    for year in range(1900, 2000):\n",
    "        with open('D:\\PITON\\DATA\\yob{0}.txt'.format(year)) as f:\n",
    "            for line in f:\n",
    "                line = ((line.rstrip()).lower()).split(',')\n",
    "                line.pop(1)\n",
    "                name_data.append(line)\n",
    "    return name_data"
   ]
  },
  {
   "cell_type": "code",
   "execution_count": 23,
   "metadata": {},
   "outputs": [],
   "source": [
    "def num_name_list(name_data):\n",
    "    name_list = []\n",
    "    for nam in name_data:\n",
    "        if nam[0] not in name_list:\n",
    "            name_list.append(nam[0])\n",
    "    return name_list"
   ]
  },
  {
   "cell_type": "code",
   "execution_count": 24,
   "metadata": {},
   "outputs": [],
   "source": [
    "def name_repeat(name_list, name_data):\n",
    "    D = {}\n",
    "    for name in name_list:\n",
    "        num_repeat = []\n",
    "        for l in name_data:\n",
    "            if l[0] == name:\n",
    "                num_repeat.append(int(l[1]))\n",
    "        D[name] = sum(num_repeat)\n",
    "    return D"
   ]
  },
  {
   "cell_type": "code",
   "execution_count": 25,
   "metadata": {},
   "outputs": [],
   "source": [
    "def name_num_let(D):\n",
    "    letters = ['b', 'c', 'd', 'f', 'g', 'h', 'j', 'k', 'l', 'm', 'n', 'p', 'q', 'r', 's', 't', 'v', 'w', 'x', 'z']\n",
    "    name_kol_let = {}\n",
    "    for n in list(D.keys()):\n",
    "        i = 0\n",
    "        for let in n:\n",
    "            if let in letters:\n",
    "                i += 1\n",
    "        name_kol_let[n] = i\n",
    "    return name_kol_let"
   ]
  },
  {
   "cell_type": "code",
   "execution_count": 19,
   "metadata": {},
   "outputs": [],
   "source": [
    "def get_uniq_name_num_let(name_kol_let):\n",
    "    num_let = []\n",
    "    for n in list(name_kol_let.values()):\n",
    "        if n not in num_let:\n",
    "            num_let.append(n)\n",
    "    return num_let"
   ]
  },
  {
   "cell_type": "code",
   "execution_count": 20,
   "metadata": {},
   "outputs": [],
   "source": [
    "def name_num_let_repeat(D, name_kol_let):\n",
    "    T = []\n",
    "    for name in D.keys():\n",
    "        let_rep = []\n",
    "        let_rep.append(name_kol_let[name])\n",
    "        let_rep.append(D[name])\n",
    "        T.append(let_rep)\n",
    "    return T"
   ]
  },
  {
   "cell_type": "code",
   "execution_count": 8,
   "metadata": {},
   "outputs": [],
   "source": [
    "def get_num_let_frequency(num_let, T):\n",
    "    F = {}\n",
    "    for num in num_let:\n",
    "        num_let_repeat = []\n",
    "        for n in T:\n",
    "            if n[0] == num:\n",
    "                num_let_repeat.append(n[1])\n",
    "        F[num] = sum(num_let_repeat)\n",
    "    return F"
   ]
  },
  {
   "cell_type": "code",
   "execution_count": 11,
   "metadata": {},
   "outputs": [],
   "source": [
    "def result():\n",
    "    name_data = data_read()\n",
    "    name_list = num_name_list(name_data)\n",
    "    D = name_repeat(name_list, name_data)\n",
    "    name_kol_let = name_num_let(D)\n",
    "    num_let = get_uniq_name_num_let(name_kol_let)\n",
    "    T = name_num_let_repeat(D, name_kol_let)\n",
    "    F = get_num_let_frequency(num_let, T)\n",
    "    DF = {}\n",
    "    l = []\n",
    "    f = []\n",
    "    for i, k in F.items():\n",
    "        l.append(i)\n",
    "        f.append(k)\n",
    "    DF['num_let'] = l\n",
    "    DF['frequency'] = f\n",
    "    A = pd.DataFrame(DF)\n",
    "    return A"
   ]
  },
  {
   "cell_type": "code",
   "execution_count": 31,
   "metadata": {},
   "outputs": [
    {
     "name": "stdout",
     "output_type": "stream",
     "text": [
      "    frequency  num_let\n0    47497570        2\n1    96812169        3\n2    35438352        5\n3    84023942        4\n4     5073360        1\n5     3980547        6\n6     1752272        8\n7      144682        7\n8        2926        0\n9        1214        9\n10        251       11\n11        166       10\n"
     ]
    },
    {
     "data": {
      "text/plain": [
       "<matplotlib.axes._subplots.AxesSubplot at 0x1e53e5382b0>"
      ]
     },
     "execution_count": 31,
     "metadata": {},
     "output_type": "execute_result"
    },
    {
     "data": {
      "image/png": "[encoded data removed]",
      "text/plain": [
       "<matplotlib.figure.Figure at 0x1e53e4764a8>"
      ]
     },
     "metadata": {},
     "output_type": "display_data"
    }
   ],
   "source": [
    "A = result()\n",
    "print(A)\n",
    "A.plot.scatter(x='num_let', y='frequency')"
   ]
  },
  {
   "cell_type": "code",
   "execution_count": null,
   "metadata": {},
   "outputs": [],
   "source": [
    ""
   ]
  }
 ],
 "metadata": {
  "kernelspec": {
   "display_name": "Python 2",
   "language": "python",
   "name": "python2"
  },
  "language_info": {
   "codemirror_mode": {
    "name": "ipython",
    "version": 2.0
   },
   "file_extension": ".py",
   "mimetype": "text/x-python",
   "name": "python",
   "nbconvert_exporter": "python",
   "pygments_lexer": "ipython2",
   "version": "2.7.6"
  }
 },
 "nbformat": 4,
 "nbformat_minor": 0
}