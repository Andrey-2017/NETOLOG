{
 "cells": [
  {
   "cell_type": "code",
   "execution_count": 1,
   "metadata": {
    "collapsed": true
   },
   "outputs": [],
   "source": [
    "import pandas as pd\n",
    "import numpy as np\n",
    "import matplotlib.pyplot as plt\n",
    "%matplotlib inline"
   ]
  },
  {
   "cell_type": "code",
   "execution_count": 14,
   "metadata": {},
   "outputs": [],
   "source": [
    "def data_read():\n",
    "    name_data = []\n",
    "    for year in range(1900, 2000):\n",
    "        with open('D:\\PITON\\DATA\\yob{0}.txt'.format(year)) as f:\n",
    "            for line in f:\n",
    "                line = ((line.rstrip()).lower()).split(',')\n",
    "                line.pop(1)\n",
    "                name_data.append(line)\n",
    "    return name_data"
   ]
  },
  {
   "cell_type": "code",
   "execution_count": 15,
   "metadata": {},
   "outputs": [],
   "source": [
    "def num_name_list(name_data):\n",
    "    name_list = []\n",
    "    for nam in name_data:\n",
    "        if nam[0] not in name_list:\n",
    "            name_list.append(nam[0])\n",
    "    return name_list"
   ]
  },
  {
   "cell_type": "code",
   "execution_count": 16,
   "metadata": {},
   "outputs": [],
   "source": [
    "def name_repeat(name_list, name_data):\n",
    "    D = {}\n",
    "    for name in name_list:\n",
    "        num_repeat = []\n",
    "        for l in name_data:\n",
    "            if l[0] == name:\n",
    "                num_repeat.append(int(l[1]))\n",
    "        D[name] = sum(num_repeat)\n",
    "    return D"
   ]
  },
  {
   "cell_type": "code",
   "execution_count": 17,
   "metadata": {},
   "outputs": [],
   "source": [
    "def name_num_let(D):\n",
    "    letters = ['b', 'c', 'd', 'f', 'g', 'h', 'j', 'k', 'l', 'm', 'n', 'p', 'q', 'r', 's', 't', 'v', 'w', 'x', 'z']\n",
    "    name_kol_let = {}\n",
    "    for n in list(D.keys()):\n",
    "        i = 0\n",
    "        for let in n:\n",
    "            if let in letters:\n",
    "                i += 1\n",
    "        name_kol_let[n] = i\n",
    "    return name_kol_let"
   ]
  },
  {
   "cell_type": "code",
   "execution_count": 18,
   "metadata": {},
   "outputs": [],
   "source": [
    "def name_num_let_repeat(D, name_kol_let):\n",
    "    T = []\n",
    "    for name in D.keys():\n",
    "        let_rep = []\n",
    "        let_rep.append(name_kol_let[name])\n",
    "        let_rep.append(D[name])\n",
    "        T.append(let_rep)\n",
    "    return T"
   ]
  },
  {
   "cell_type": "code",
   "execution_count": 19,
   "metadata": {},
   "outputs": [],
   "source": [
    "def result():\n",
    "    name_data = data_read()\n",
    "    name_list = num_name_list(name_data)\n",
    "    D = name_repeat(name_list, name_data)\n",
    "    name_kol_let = name_num_let(D)\n",
    "    T = name_num_let_repeat(D, name_kol_let)\n",
    "    DF = {}\n",
    "    l = []\n",
    "    f = []\n",
    "    for i in T:\n",
    "        l.append(i[0])\n",
    "        f.append(i[1])\n",
    "    DF['name_num_let'] = l\n",
    "    DF['frequency'] = f\n",
    "    A = pd.DataFrame(DF)\n",
    "    return A"
   ]
  },
  {
   "cell_type": "code",
   "execution_count": 20,
   "metadata": {},
   "outputs": [
    {
     "name": "stdout",
     "output_type": "stream",
     "text": [
      "       frequency  name_num_let\n0        3847492             2\n1         957012             3\n2         664011             2\n3        1151063             5\n4         770729             3\n5        1364817             5\n6         285437             5\n7         233325             3\n8         493685             2\n9         301533             4\n10        294508             2\n11        258167             2\n12        261084             2\n13        488657             2\n14        130573             3\n15        164027             4\n16        281460             3\n17        429040             2\n18        201382             3\n19        434011             5\n20        249776             4\n21        112285             3\n22        146001             5\n23        123444             3\n24         95114             3\n25        558696             5\n26       1092235             4\n27        507858             4\n28        204712             3\n29        145326             1\n...          ...           ...\n68583          5             4\n68584          5             4\n68585          5             3\n68586          5             3\n68587          5             2\n68588          5             5\n68589          5             3\n68590          5             5\n68591          5             3\n68592          5             4\n68593          5             4\n68594          5             2\n68595          5             0\n68596          5             1\n68597          5             3\n68598          5             4\n68599          5             3\n68600          5             3\n68601          5             3\n68602          5             3\n68603          5             4\n68604          5             4\n68605          5             2\n68606          5             2\n68607          5             3\n68608          5             3\n68609          5             2\n68610          5             3\n68611          5             3\n68612          5             4\n\n[68613 rows x 2 columns]\n"
     ]
    },
    {
     "data": {
      "text/plain": [
       "<matplotlib.axes._subplots.AxesSubplot at 0x1d52f355ef0>"
      ]
     },
     "execution_count": 20,
     "metadata": {},
     "output_type": "execute_result"
    },
    {
     "data": {
      "image/png": "[encoded data removed]",
      "text/plain": [
       "<matplotlib.figure.Figure at 0x1d52eed6828>"
      ]
     },
     "metadata": {},
     "output_type": "display_data"
    }
   ],
   "source": [
    "A = result()\n",
    "print(A)\n",
    "A.plot.scatter(x='name_num_let', y='frequency')"
   ]
  },
  {
   "cell_type": "code",
   "execution_count": null,
   "metadata": {},
   "outputs": [],
   "source": [
    ""
   ]
  }
 ],
 "metadata": {
  "kernelspec": {
   "display_name": "Python 2",
   "language": "python",
   "name": "python2"
  },
  "language_info": {
   "codemirror_mode": {
    "name": "ipython",
    "version": 2.0
   },
   "file_extension": ".py",
   "mimetype": "text/x-python",
   "name": "python",
   "nbconvert_exporter": "python",
   "pygments_lexer": "ipython2",
   "version": "2.7.6"
  }
 },
 "nbformat": 4,
 "nbformat_minor": 0
}